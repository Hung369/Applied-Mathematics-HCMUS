{
 "cells": [
  {
   "cell_type": "markdown",
   "metadata": {},
   "source": [
    "## Đồ Án 2\n",
    "#### Họ và tên: Nguyễn Mạnh Hùng\n",
    "#### MSSV: 20127030"
   ]
  },
  {
   "cell_type": "code",
   "execution_count": 1,
   "metadata": {},
   "outputs": [],
   "source": [
    "import numpy as np\n",
    "import matplotlib.pyplot as plt\n",
    "from PIL import Image"
   ]
  },
  {
   "cell_type": "markdown",
   "metadata": {},
   "source": [
    "<b> Hàm đọc ảnh </b>\n",
    "<ul>\n",
    "  <li>Input: đường dẫn của ảnh</li>\n",
    "  <li>Output: ảnh được lưu trữ ở dạng numpy</li>\n",
    "</ul>"
   ]
  },
  {
   "cell_type": "code",
   "execution_count": 2,
   "metadata": {},
   "outputs": [],
   "source": [
    "def ReadImage(path):\n",
    "    image = Image.open(path)\n",
    "    result = np.array(image, dtype = np.uint8)\n",
    "    return result"
   ]
  },
  {
   "cell_type": "markdown",
   "metadata": {},
   "source": [
    "<b>Hàm hiển thị ảnh</b></br>\n",
    "Hàm dùng để hiển thị kết quả hình ảnh.\n",
    "<ul>\n",
    "  <li>Input: tham số ảnh ở dạng mảng numpy</li>\n",
    "  <li>Output: hiển thị ảnh ở dạng kích thước gốc cùng với tiêu đề chứa kích thước ảnh</li>\n",
    "</ul>"
   ]
  },
  {
   "cell_type": "code",
   "execution_count": 3,
   "metadata": {},
   "outputs": [],
   "source": [
    "def ShowImage(img, gray_flag = False):\n",
    "    plt.title(f\"image size{img.shape}\")\n",
    "    plt.axis('off')\n",
    "    if gray_flag:\n",
    "        plt.imshow(img, cmap=\"gray\")\n",
    "    else:\n",
    "        plt.imshow(img)"
   ]
  },
  {
   "cell_type": "markdown",
   "metadata": {},
   "source": [
    "<b>Hàm lưu ảnh</b></br>\n",
    "Lưu lại kết quả hình ảnh sau khi thực hiện 1 tác vụ nào đó.</br>\n",
    "Hàm bao gồm:\n",
    "<ul>\n",
    "  <li>Input: tham số lưu ảnh kết quả ở kiểu dữ liệu mảng numpy unint8 và tên chức năng đã thực hiện</li>\n",
    "  <li>Output: file lưu ảnh tương ứng với định dạng jpg, với tên tương ứng</li>\n",
    "</ul>"
   ]
  },
  {
   "cell_type": "code",
   "execution_count": 4,
   "metadata": {},
   "outputs": [],
   "source": [
    "def SaveImage(img_arr, format, name):\n",
    "    image = Image.fromarray(img_arr)\n",
    "    result = f\"{name}_{format}.jpg\"\n",
    "    image.save(result)"
   ]
  },
  {
   "cell_type": "markdown",
   "metadata": {},
   "source": [
    "<b>Hàm chuyển đổi ảnh màu thành ảnh xám</b></br>\n",
    "Hàm chuyển đổi thủ công từ ảnh màu về ảnh xám\n",
    "<ul>\n",
    "  <li>Input: tham số ảnh ở dạng mảng numpy</li>\n",
    "  <li>Output: ảnh mức xám ở dạng mảng numpy</li>\n",
    "</ul>"
   ]
  },
  {
   "cell_type": "code",
   "execution_count": 5,
   "metadata": {},
   "outputs": [],
   "source": [
    "# chuyển đổi từ RGB về grayscale\n",
    "def RGB2Gray(image):\n",
    "    image = image[...,::-1].copy()\n",
    "    # tách 3 kênh màu của ảnh\n",
    "    red, green, blue = image[:,:,0], image[:,:,1], image[:,:,2]\n",
    "    gray = 0.2989*red + 0.5870*green + 0.1140*blue\n",
    "    return gray.astype(np.uint8) # chuyển đổi định dạng của ảnh về kiểu dữ liệu uint8 (giá trị pixel 0-255)"
   ]
  },
  {
   "cell_type": "markdown",
   "metadata": {},
   "source": [
    "<b>Hàm thay đổi độ sáng của ảnh</b></br>\n",
    "Hàm tăng/giảm độ sáng của ảnh\n",
    "<ul>\n",
    "  <li>Input: tham số ảnh ở dạng mảng numpy, giá trị thay đổi độ sáng</li>\n",
    "  <li>Output: ảnh đã được thay đổi độ sáng ở dạng mảng numpy</li>\n",
    "</ul>"
   ]
  },
  {
   "cell_type": "code",
   "execution_count": 6,
   "metadata": {},
   "outputs": [],
   "source": [
    "def Brightness(image, C):\n",
    "    result = image + C\n",
    "    # giá trị trong ma trận cộng với C mà > 255 thì sẽ được gán thành 255\n",
    "    # còn < 0 thì sẽ được gán là 0\n",
    "    result = np.clip(result, 0, 255)\n",
    "    return result.astype(np.uint8)"
   ]
  },
  {
   "cell_type": "markdown",
   "metadata": {},
   "source": [
    "<b>Hàm thay đổi độ tương phản của ảnh</b></br>\n",
    "Hàm tăng/giảm độ tương phản của ảnh\n",
    "<ul>\n",
    "  <li>Input: tham số ảnh ở dạng mảng numpy, giá trị thay đổi tương phản</li>\n",
    "  <li>Output: ảnh đã được thay đổi độ tương phản ở dạng mảng numpy</li>\n",
    "</ul>"
   ]
  },
  {
   "cell_type": "code",
   "execution_count": 7,
   "metadata": {},
   "outputs": [],
   "source": [
    "def Contrast(image, C):\n",
    "    result = image * C\n",
    "    # giá trị trong ma trận cộng với C mà > 255 thì sẽ được gán thành 255\n",
    "    # còn < 0 thì sẽ được gán là 0\n",
    "    result = np.clip(result, 0, 255)\n",
    "    return result.astype(np.uint8)"
   ]
  },
  {
   "cell_type": "markdown",
   "metadata": {},
   "source": [
    "<b>Hàm căt ảnh theo hình tròn</b></br>\n",
    "Thực hiện việc cắt nội dung ảnh theo khung là hình tròn\n",
    "<ul>\n",
    "  <li>Input: tham số ảnh ở dạng mảng numpy</li>\n",
    "  <li>Output: ảnh đã được cắt ghép theo khung hình tròn</li>\n",
    "</ul>"
   ]
  },
  {
   "cell_type": "code",
   "execution_count": 8,
   "metadata": {},
   "outputs": [],
   "source": [
    "def CircleCrop(image):\n",
    "    width, height = image.shape[0], image.shape[1]\n",
    "\n",
    "    R = height/2 if width > height else width/2 # bán kính khung hình tròn\n",
    "    pic = image.copy()\n",
    "    \n",
    "    for a in range(width):\n",
    "        for b in range(height):\n",
    "            if (a - width/2)*(a - width/2) + (b - height/2)*(b - height/2) > R*R:\n",
    "                pic[a][b] = 0 # điểm ảnh màu đen\n",
    "    return pic.astype(np.uint8)"
   ]
  },
  {
   "cell_type": "markdown",
   "metadata": {},
   "source": [
    "<b>Hàm chuyển hình ảnh sang sepia</b></br>\n",
    "Thực hiện đổi ảnh màu thành sepia\n",
    "<ul>\n",
    "  <li>Input: tham số ảnh màu ở dạng mảng numpy</li>\n",
    "  <li>Output: ảnh ở dạng sepia </li>\n",
    "</ul>"
   ]
  },
  {
   "cell_type": "code",
   "execution_count": 9,
   "metadata": {},
   "outputs": [],
   "source": [
    "def RGB2Sep(image):\n",
    "    img = image.copy()\n",
    "    # Tạo ma trận Sepia\n",
    "    sepia_matrix = np.array([[0.393, 0.769, 0.189],\n",
    "                             [0.349, 0.686, 0.168],\n",
    "                             [0.272, 0.534, 0.131]])\n",
    "    # Vì ảnh được stack theo cột nên ta cần chuyển vị ma trận sepia để phù hợp cho phép nhân ma trận\n",
    "    img = img.dot(sepia_matrix.T)\n",
    "    # gán các ma trận vượt ngưỡng = 255\n",
    "    img[img > 255] = 255\n",
    "    return img.astype(np.uint8)"
   ]
  },
  {
   "cell_type": "markdown",
   "metadata": {},
   "source": [
    "<b>Hàm lật ảnh dọc</b></br>\n",
    "Thực hiện lật ảnh theo phương thẳng đứng\n",
    "<ul>\n",
    "  <li>Input: tham số ảnh màu ở dạng mảng numpy</li>\n",
    "  <li>Output: ảnh đã được lấy đối xứng theo phương thẳng đứng so với ảnh gốc </li>\n",
    "</ul>"
   ]
  },
  {
   "cell_type": "code",
   "execution_count": 10,
   "metadata": {},
   "outputs": [],
   "source": [
    "def flipVertical(image):\n",
    "    img = image.copy()\n",
    "    h = img.shape[1]\n",
    "    \n",
    "    for i in range(h // 2):\n",
    "        col = img[:, i, :].copy()\n",
    "        img[:, i, :] = img[:, h - i - 1, :]\n",
    "        img[:, h - i - 1, :] = col\n",
    "\n",
    "    return img.astype(np.uint8)"
   ]
  },
  {
   "cell_type": "markdown",
   "metadata": {},
   "source": [
    "<b>Hàm lật ảnh ngang</b></br>\n",
    "Thực hiện lật ảnh theo phương ngang\n",
    "<ul>\n",
    "  <li>Input: tham số ảnh màu ở dạng mảng numpy</li>\n",
    "  <li>Output: ảnh đã được lấy đối xứng theo phương ngang so với ảnh gốc </li>\n",
    "</ul>"
   ]
  },
  {
   "cell_type": "code",
   "execution_count": 11,
   "metadata": {},
   "outputs": [],
   "source": [
    "def flipHorizontal(image):\n",
    "    img = image.copy()\n",
    "    w = img.shape[0]\n",
    "    \n",
    "    for i in range(w // 2):\n",
    "        row = img[i, :, :].copy()\n",
    "        img[i, :, :] = img[w - i - 1, :, :]\n",
    "        img[w - i - 1, :, :] = row\n",
    "\n",
    "    return img.astype(np.uint8)"
   ]
  },
  {
   "cell_type": "markdown",
   "metadata": {},
   "source": [
    "<b>Hàm làm mờ ảnh</b></br>\n",
    "Thực hiện làm mờ ảnh theo thuật toán tích chập với mặt nạ Gauss\n",
    "<ul>\n",
    "  <li>Input: tham số ảnh màu ở dạng mảng numpy</li>\n",
    "  <li>Output: ảnh đã được làm mờ</li>\n",
    "</ul>"
   ]
  },
  {
   "cell_type": "code",
   "execution_count": 12,
   "metadata": {},
   "outputs": [],
   "source": [
    "def gaussian_filter(k=5): # return gaussian mask matrix\n",
    "    sigma = 1.5\n",
    "    center = k // 2\n",
    "    x, y = np.mgrid[0:k, 0:k] # tạo mảng 2D có giá trị mỗi ô 0->(k-1)\n",
    "    g = (1/(2*np.pi*(sigma**2)))*np.exp(-((x - center)**2 + (y - center)**2) / (2 * sigma**2))\n",
    "    return g / g.sum()"
   ]
  },
  {
   "cell_type": "code",
   "execution_count": 13,
   "metadata": {},
   "outputs": [],
   "source": [
    "def convolution(image, kernel):\n",
    "    image_height, image_width = image.shape\n",
    "    kernel_height, kernel_width = kernel.shape\n",
    "\n",
    "    # tính toán vị trí để thêm dãy số 0 ở ngoài rìa cho phép tích chập\n",
    "    pad_height = (kernel_height - 1) // 2\n",
    "    pad_width = (kernel_width - 1) // 2\n",
    "\n",
    "    # thêm các số 0 ở các rìa ảnh, constant default nghĩa là giá trị 0\n",
    "    padded_image = np.pad(image, ((pad_height, pad_height), (pad_width, pad_width)), mode='constant')\n",
    "\n",
    "    result = np.zeros_like(image)\n",
    "\n",
    "    # thực hiện phép toán tích chập\n",
    "    for i in range(image_height):\n",
    "        for j in range(image_width):\n",
    "            result[i, j] = np.sum(padded_image[i:i+kernel_height, j:j+kernel_width] * kernel)\n",
    "\n",
    "    return result"
   ]
  },
  {
   "cell_type": "code",
   "execution_count": 14,
   "metadata": {},
   "outputs": [],
   "source": [
    "def BlurImage(image):\n",
    "    kernel = gaussian_filter()\n",
    "    blurred = np.zeros_like(image)\n",
    "    for i in range(3):\n",
    "        blurred[:,:,i] = convolution(image[:,:,i], kernel)\n",
    "    return blurred.astype(np.uint8)"
   ]
  },
  {
   "cell_type": "markdown",
   "metadata": {},
   "source": [
    "<b>Hàm làm xén ảnh trung tâm</b></br>\n",
    "Thực hiện xén ảnh theo kích thước với điểm trung tâm ảnh làm gốc\n",
    "<ul>\n",
    "  <li>Input: tham số ảnh màu ở dạng mảng numpy</li>\n",
    "  <li>Output: ảnh đã được cắt xén và chỉ hiển thị nội ở trung tâm của ảnh gốc</li>\n",
    "</ul>"
   ]
  },
  {
   "cell_type": "code",
   "execution_count": 15,
   "metadata": {},
   "outputs": [],
   "source": [
    "def CropCenter(image):\n",
    "    image_height, image_width, _ = image.shape\n",
    "\n",
    "    # trung tâm\n",
    "    c_height = (image_height - 1) // 2\n",
    "    c_width = (image_width - 1) // 2\n",
    "    dist_row = c_height // 2\n",
    "    dist_col = c_width // 2\n",
    "\n",
    "    # xén hình\n",
    "    result = image[dist_row:c_height+dist_row+1, dist_col:c_width+dist_col+1,:]\n",
    "\n",
    "    return result.astype(np.uint8)"
   ]
  },
  {
   "cell_type": "markdown",
   "metadata": {},
   "source": [
    "<b>Hàm làm làm sắc nét ảnh</b></br>\n",
    "Làm sắc nét bằng việc làm mờ ảnh đi sau đó thực hiện phép cộng giữa ảnh gốc và lượng chênh lệch giữa ảnh gốc và mờ nhằm loại bỏ các điểm nhiễu.\n",
    "<ul>\n",
    "  <li>Input: tham số ảnh màu ở dạng mảng numpy</li>\n",
    "  <li>Output: ảnh đã được làm sắc nét</li>\n",
    "</ul>"
   ]
  },
  {
   "cell_type": "code",
   "execution_count": 16,
   "metadata": {},
   "outputs": [],
   "source": [
    "def Sharpen(image, amount=1):\n",
    "    blurred = BlurImage(image)\n",
    "    sharpened = image + amount * (image - blurred)\n",
    "    return sharpened"
   ]
  },
  {
   "cell_type": "markdown",
   "metadata": {},
   "source": [
    "<b> Hàm main -- Nơi thực hiện toàn bộ các tính năng xử lý ảnh theo yêu cầu và cho phép người dùng nhập tên file ảnh vào."
   ]
  },
  {
   "cell_type": "code",
   "execution_count": 17,
   "metadata": {},
   "outputs": [],
   "source": [
    "def flip_handler():\n",
    "   print(\"1. Phương ngang\")\n",
    "   print(\"2. Phương dọc\")\n",
    "   solution = int(input(\"Chọn phương để lật ảnh: \"))\n",
    "   while solution != 1 and solution != 2:\n",
    "      solution = int(input(\"Sai định dạng, vui lòng nhập lại: \"))\n",
    "   return solution"
   ]
  },
  {
   "cell_type": "code",
   "execution_count": 18,
   "metadata": {},
   "outputs": [],
   "source": [
    "def mode_handler():\n",
    "  mod = int(input(\"Chọn (1. Ảnh xám; 2. Ảnh sepia): \"))\n",
    "  while mod != 1 and mod != 2:\n",
    "    mod = int(input(\"Sai định dạng, vui lòng nhập lại: \"))\n",
    "  return mod"
   ]
  },
  {
   "cell_type": "code",
   "execution_count": 19,
   "metadata": {},
   "outputs": [],
   "source": [
    "def resolution():\n",
    "    mod = int(input(\"Chọn (1. Làm mờ ảnh; 2. Làm sắc nét ảnh): \"))\n",
    "    while mod != 1 and mod != 2:\n",
    "        mod = int(input(\"Sai định dạng, vui lòng nhập lại: \"))\n",
    "    return mod"
   ]
  },
  {
   "cell_type": "code",
   "execution_count": 20,
   "metadata": {},
   "outputs": [],
   "source": [
    "def main():\n",
    "    path = input(\"Nhập tên ảnh muốn xử lý: \")\n",
    "    img = ReadImage(path)\n",
    "    variable = path.split('.')\n",
    "    print(\"Các tác vụ xử lý ảnh: \")\n",
    "    print(\"1. Thay đổi độ sáng\")\n",
    "    print(\"2. Thay đổi độ tương phản\")\n",
    "    print(\"3. Lật ảnh ngang dọc\")\n",
    "    print(\"4. Chuyển đổi ảnh màu thành ảnh xám/sepia\")\n",
    "    print(\"5. Làm mờ/sắc nét ảnh\")\n",
    "    print(\"6. Cắt ảnh theo kích thước trung tâm\")\n",
    "    print(\"7. Cắt ảnh theo hình tròn\")\n",
    "    print(\"0. Thực hiện tất cả các chức năng\")\n",
    "    choice = int(input(\"Lựa chọn của bạn là: \"))\n",
    "    print()\n",
    "    if choice > 7 or choice < 0:\n",
    "        print(\"Sai định dạng, vui lòng nhập lại chương trình\")\n",
    "\n",
    "    elif choice == 1: # 1. độ sáng (1 điểm)\n",
    "\n",
    "        val = int(input(\"Nhập giá trị hiệu chỉnh độ sáng: \"))\n",
    "        result = Brightness(img, val)\n",
    "        ShowImage(result)\n",
    "        print(\"Saving...\")\n",
    "        SaveImage(result, \"brightness\", variable[0])\n",
    "\n",
    "    elif choice == 2: # 2. độ tương phản (1 điểm)\n",
    "\n",
    "        val = float(input(\"Nhập giá trị hiệu chỉnh độ tương phản: \"))\n",
    "        result = Contrast(img, val)\n",
    "        ShowImage(result)\n",
    "        print(\"Saving...\")\n",
    "        SaveImage(result, \"contrast\", variable[0])\n",
    "\n",
    "    elif choice == 3: # 3. lật ảnh ngang dọc (1 điểm)\n",
    "\n",
    "        solution = flip_handler()\n",
    "        if solution == 1:\n",
    "            result = flipHorizontal(img)\n",
    "            ShowImage(result)\n",
    "            print(\"Saving...\")\n",
    "            SaveImage(result, \"horizon\", variable[0])\n",
    "        else:\n",
    "            result = flipVertical(img)\n",
    "            ShowImage(result)\n",
    "            print(\"Saving...\")\n",
    "            SaveImage(result, \"vertical\", variable[0])\n",
    "        \n",
    "    elif choice == 4: # 4. chuyển ảnh thành ảnh xám/sepia (2 điểm)\n",
    "\n",
    "        solution = mode_handler()\n",
    "        if solution == 1:\n",
    "            result = RGB2Gray(img)\n",
    "            ShowImage(result, gray_flag=True) # True = using cmap = 'gray'\n",
    "            print(\"Saving...\")\n",
    "            SaveImage(result, \"grayscale\", variable[0])\n",
    "        else:\n",
    "            result = RGB2Sep(img)\n",
    "            ShowImage(result)\n",
    "            print(\"Saving...\")\n",
    "            SaveImage(result, \"sepia\", variable[0])\n",
    "\n",
    "    elif choice == 5: # 5. làm mờ/sắc nét ảnh (2 điểm)\n",
    "\n",
    "        solution = resolution()\n",
    "        if solution == 1:\n",
    "            result = BlurImage(img)\n",
    "            ShowImage(result)\n",
    "            print(\"Saving...\")\n",
    "            SaveImage(result, \"blur\", variable[0])\n",
    "        else:\n",
    "            result = Sharpen(img)\n",
    "            ShowImage(result)\n",
    "            print(\"Saving...\")\n",
    "            SaveImage(result, \"sharp\", variable[0])\n",
    "\n",
    "    elif choice == 6: # 6. cắt ảnh theo kích thước trung tâm (1 điểm)\n",
    "\n",
    "        result = CropCenter(img)\n",
    "        ShowImage(result)\n",
    "        print(\"Saving...\")\n",
    "        SaveImage(result, \"centered\", variable[0])\n",
    "\n",
    "    elif choice == 7: # 7. cắt ảnh theo khung tròn (1 điểm)\n",
    "        \n",
    "        result = CircleCrop(img)\n",
    "        ShowImage(result)\n",
    "        print(\"Saving...\")\n",
    "        SaveImage(result, \"circled\", variable[0])\n",
    "\n",
    "    elif choice == 0: # Thực hiện toàn bộ chức năng\n",
    "        \n",
    "        #Độ sáng\n",
    "        val = int(input(\"Nhập giá trị hiệu chỉnh độ sáng: \"))\n",
    "        result = Brightness(img, val)\n",
    "        print(\"Saving...\")\n",
    "        SaveImage(result, \"brightness\", variable[0])\n",
    "\n",
    "        #Tương phản\n",
    "        val = float(input(\"Nhập giá trị hiệu chỉnh độ tương phản: \"))\n",
    "        result = Contrast(img, val)\n",
    "        print(\"Saving...\")\n",
    "        SaveImage(result, \"contrast\", variable[0])\n",
    "\n",
    "        # Lật ảnh\n",
    "        solution = flip_handler()\n",
    "        if solution == 1:\n",
    "            result = flipHorizontal(img)\n",
    "            print(\"Saving...\")\n",
    "            SaveImage(result, \"horizon\", variable[0])\n",
    "        else:\n",
    "            result = flipVertical(img)\n",
    "            print(\"Saving...\")\n",
    "            SaveImage(result, \"vertical\", variable[0])\n",
    "        \n",
    "        #Xám/Sepia\n",
    "        solution = mode_handler()\n",
    "        if solution == 1:\n",
    "            result = RGB2Gray(img)\n",
    "            ShowImage(result, gray_flag=True) # True = using cmap = 'gray'\n",
    "            print(\"Saving...\")\n",
    "            SaveImage(result, \"grayscale\", variable[0])\n",
    "        else:\n",
    "            result = RGB2Sep(img)\n",
    "            print(\"Saving...\")\n",
    "            SaveImage(result, \"sepia\", variable[0])\n",
    "        \n",
    "        #Độ phân giải\n",
    "        solution = resolution()\n",
    "        if solution == 1:\n",
    "            result = BlurImage(img)\n",
    "            print(\"Saving...\")\n",
    "            SaveImage(result, \"blur\", variable[0])\n",
    "        else:\n",
    "            result = Sharpen(img)\n",
    "            print(\"Saving...\")\n",
    "            SaveImage(result, \"sharp\", variable[0])\n",
    "        \n",
    "        # Cắt trung tâm\n",
    "        result = CropCenter(img)\n",
    "        print(\"Saving...\")\n",
    "        SaveImage(result, \"centered\", variable[0])\n",
    "\n",
    "        # Cắt khung tròn\n",
    "        result = CircleCrop(img)\n",
    "        print(\"Saving...\")\n",
    "        SaveImage(result, \"circled\", variable[0])"
   ]
  },
  {
   "cell_type": "markdown",
   "metadata": {},
   "source": [
    "----"
   ]
  },
  {
   "cell_type": "code",
   "execution_count": 21,
   "metadata": {},
   "outputs": [
    {
     "name": "stdout",
     "output_type": "stream",
     "text": [
      "Các tác vụ xử lý ảnh: \n",
      "1. Thay đổi độ sáng\n",
      "2. Thay đổi độ tương phản\n",
      "3. Lật ảnh ngang dọc\n",
      "4. Chuyển đổi ảnh màu thành ảnh xám/sepia\n",
      "5. Làm mờ/sắc nét ảnh\n",
      "6. Cắt ảnh theo kích thước trung tâm\n",
      "7. Cắt ảnh theo hình tròn\n",
      "0. Thực hiện tất cả các chức năng\n",
      "\n",
      "Saving...\n",
      "Saving...\n",
      "1. Phương ngang\n",
      "2. Phương dọc\n",
      "Saving...\n",
      "Saving...\n",
      "Saving...\n",
      "Saving...\n",
      "Saving...\n"
     ]
    }
   ],
   "source": [
    "main()"
   ]
  }
 ],
 "metadata": {
  "kernelspec": {
   "display_name": "venv",
   "language": "python",
   "name": "python3"
  },
  "language_info": {
   "codemirror_mode": {
    "name": "ipython",
    "version": 3
   },
   "file_extension": ".py",
   "mimetype": "text/x-python",
   "name": "python",
   "nbconvert_exporter": "python",
   "pygments_lexer": "ipython3",
   "version": "3.10.11"
  },
  "orig_nbformat": 4
 },
 "nbformat": 4,
 "nbformat_minor": 2
}
